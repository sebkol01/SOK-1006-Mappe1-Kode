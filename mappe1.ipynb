{
 "cells": [
  {
   "cell_type": "code",
   "execution_count": 2,
   "metadata": {},
   "outputs": [],
   "source": [
    "#importerer pakker\n",
    "import matplotlib.pyplot as plt\n",
    "import pandas as pd\n",
    "import sympy as sp\n",
    "import numpy as np"
   ]
  },
  {
   "cell_type": "code",
   "execution_count": 10,
   "metadata": {},
   "outputs": [
    {
     "data": {
      "text/plain": [
       "-14.335226934493816"
      ]
     },
     "execution_count": 10,
     "metadata": {},
     "output_type": "execute_result"
    }
   ],
   "source": [
    "def demand_curve(c,Q,y,pb): \n",
    "    #Programmer ligning 14 her. Bruk c.log() for å regne ut logaritmen. \n",
    "    demand = (c.log(Q) - (-4.507 + 0.841 +0.2775))/(-0.397) \n",
    "    return demand \n",
    " \n",
    "demand_curve(np, 10, 20 ,30) \n"
   ]
  },
  {
   "cell_type": "code",
   "execution_count": 13,
   "metadata": {},
   "outputs": [],
   "source": [
    "def supply_curve_long_run(c,Q,N,X,pf,t): \n",
    "    #Programmer ligning 15 her. Bruk c.log() for å regne ut logaritmen. \n",
    "    supply = c.log(1-.631)(N*t*Q+X*t)-(2.030-0.146+0.0184)/0.221 \n",
    "    return supply "
   ]
  },
  {
   "cell_type": "code",
   "execution_count": 14,
   "metadata": {},
   "outputs": [],
   "source": [
    "def supply_curve_short_run(c,Q,N,X,pf,t,Q_fitted): \n",
    "    #Programmer ligning 16 her. Bruk c.log() for å regne ut logaritmen. \n",
    " #TIPS: qprod i ligningen er (NQ_fitted+X) her.\n",
    "    c.log(N*t*Q+X*t)-(2.030-0.146+0.0184+0.631+X)/0.221 \n",
    "    return supply "
   ]
  },
  {
   "cell_type": "code",
   "execution_count": 24,
   "metadata": {},
   "outputs": [],
   "source": [
    "def equate_q(y,pb,N,X,pf,t): \n",
    "    #Finn verdien for Q som gør at demand_curve og supply_curve_long_run returnerer samme verdi.\n",
    "    #Bruk sp.Eq, og la første argument i funksjonene over være sp \n",
    "    sol = sp.Eq(demand_curve, supply_curve_long_run)\n",
    "\n",
    "    return float(sol) "
   ]
  },
  {
   "cell_type": "code",
   "execution_count": 26,
   "metadata": {},
   "outputs": [
    {
     "ename": "IndentationError",
     "evalue": "expected an indented block after function definition on line 1 (3056317202.py, line 1)",
     "output_type": "error",
     "traceback": [
      "\u001b[0;36m  Input \u001b[0;32mIn [26]\u001b[0;36m\u001b[0m\n\u001b[0;31m    def plot_year(df,year):\u001b[0m\n\u001b[0m                           ^\u001b[0m\n\u001b[0;31mIndentationError\u001b[0m\u001b[0;31m:\u001b[0m expected an indented block after function definition on line 1\n"
     ]
    }
   ],
   "source": [
    "def plot_year(df,year):\n",
    "    "
   ]
  },
  {
   "cell_type": "code",
   "execution_count": 29,
   "metadata": {},
   "outputs": [
    {
     "ename": "NameError",
     "evalue": "name 'df' is not defined",
     "output_type": "error",
     "traceback": [
      "\u001b[0;31m---------------------------------------------------------------------------\u001b[0m",
      "\u001b[0;31mNameError\u001b[0m                                 Traceback (most recent call last)",
      "\u001b[1;32m/Users/sebastianfkolstad/Documents/SOK-1006/Mappe1/Code case 1/mappe1.ipynb Cell 7'\u001b[0m in \u001b[0;36m<cell line: 2>\u001b[0;34m()\u001b[0m\n\u001b[1;32m      <a href='vscode-notebook-cell:/Users/sebastianfkolstad/Documents/SOK-1006/Mappe1/Code%20case%201/mappe1.ipynb#ch0000006?line=0'>1</a>\u001b[0m \u001b[39m#obtaining the relevant variables for year: \u001b[39;00m\n\u001b[0;32m----> <a href='vscode-notebook-cell:/Users/sebastianfkolstad/Documents/SOK-1006/Mappe1/Code%20case%201/mappe1.ipynb#ch0000006?line=1'>2</a>\u001b[0m d\u001b[39m=\u001b[39mdf[df[\u001b[39m'\u001b[39m\u001b[39mYEAR\u001b[39m\u001b[39m'\u001b[39m]\u001b[39m==\u001b[39myear]\u001b[39m.\u001b[39mto_dict(orient\u001b[39m=\u001b[39m\u001b[39m'\u001b[39m\u001b[39mrecords\u001b[39m\u001b[39m'\u001b[39m)[\u001b[39m0\u001b[39m] \n\u001b[1;32m      <a href='vscode-notebook-cell:/Users/sebastianfkolstad/Documents/SOK-1006/Mappe1/Code%20case%201/mappe1.ipynb#ch0000006?line=3'>4</a>\u001b[0m cpi\u001b[39m=\u001b[39md[\u001b[39m'\u001b[39m\u001b[39mCPI\u001b[39m\u001b[39m'\u001b[39m] \n\u001b[1;32m      <a href='vscode-notebook-cell:/Users/sebastianfkolstad/Documents/SOK-1006/Mappe1/Code%20case%201/mappe1.ipynb#ch0000006?line=4'>5</a>\u001b[0m y\u001b[39m=\u001b[39mnp\u001b[39m.\u001b[39mlog(d[\u001b[39m'\u001b[39m\u001b[39mY\u001b[39m\u001b[39m'\u001b[39m]) \n",
      "\u001b[0;31mNameError\u001b[0m: name 'df' is not defined"
     ]
    }
   ],
   "source": [
    "    #obtaining the relevant variables for year: \n",
    "    d=df[df['YEAR']==year].to_dict(orient='records')[0] \n",
    "\n",
    "    cpi=d['CPI'] \n",
    "    y=np.log(d['Y']) \n",
    "    pb=np.log(d['PBEEF']/cpi) \n",
    "    N=d['POP'] \n",
    "    X=d['QPRODA']/1439-d['Q']*d['POP'] \n",
    "    pf=np.log(d['PF']/cpi) \n",
    "    t=d['TIME'] \n"
   ]
  },
  {
   "cell_type": "code",
   "execution_count": 28,
   "metadata": {},
   "outputs": [
    {
     "ename": "NameError",
     "evalue": "name 'y' is not defined",
     "output_type": "error",
     "traceback": [
      "\u001b[0;31m---------------------------------------------------------------------------\u001b[0m",
      "\u001b[0;31mNameError\u001b[0m                                 Traceback (most recent call last)",
      "\u001b[1;32m/Users/sebastianfkolstad/Documents/SOK-1006/Mappe1/Code case 1/mappe1.ipynb Cell 8'\u001b[0m in \u001b[0;36m<cell line: 2>\u001b[0;34m()\u001b[0m\n\u001b[1;32m      <a href='vscode-notebook-cell:/Users/sebastianfkolstad/Documents/SOK-1006/Mappe1/Code%20case%201/mappe1.ipynb#ch0000007?line=0'>1</a>\u001b[0m \u001b[39m#obtaining equilibrium quantity: \u001b[39;00m\n\u001b[0;32m----> <a href='vscode-notebook-cell:/Users/sebastianfkolstad/Documents/SOK-1006/Mappe1/Code%20case%201/mappe1.ipynb#ch0000007?line=1'>2</a>\u001b[0m Q_fitted\u001b[39m=\u001b[39mequate_q(y,pb,N,X,pf,t)\n",
      "\u001b[0;31mNameError\u001b[0m: name 'y' is not defined"
     ]
    }
   ],
   "source": [
    "#obtaining equilibrium quantity: \n",
    "Q_fitted=equate_q(y,pb,N,X,pf,t)"
   ]
  },
  {
   "cell_type": "code",
   "execution_count": null,
   "metadata": {},
   "outputs": [],
   "source": [
    "#plotting the functions: \n",
    "\n",
    "#plot alle tre funksjonene her.\n",
    "#Husk at\n",
    "#1. funksjonene skal opphøyes i eksponenten (dvs. du bruker np.exp(<funksjon>)) for å uttrykkes i \n",
    "#nivå \n",
    "#2. så skal de multipliseres med cpi \n",
    "#3. første argument er np her, ikke sp.\n",
    "\n",
    "\n",
    "    plt.show()"
   ]
  }
 ],
 "metadata": {
  "interpreter": {
   "hash": "aee8b7b246df8f9039afb4144a1f6fd8d2ca17a180786b69acc140d282b71a49"
  },
  "kernelspec": {
   "display_name": "Python 3.10.2 64-bit",
   "language": "python",
   "name": "python3"
  },
  "language_info": {
   "codemirror_mode": {
    "name": "ipython",
    "version": 3
   },
   "file_extension": ".py",
   "mimetype": "text/x-python",
   "name": "python",
   "nbconvert_exporter": "python",
   "pygments_lexer": "ipython3",
   "version": "3.10.2"
  },
  "orig_nbformat": 4
 },
 "nbformat": 4,
 "nbformat_minor": 2
}
